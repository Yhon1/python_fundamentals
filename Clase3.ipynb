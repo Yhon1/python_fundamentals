{
 "cells": [
  {
   "cell_type": "code",
   "execution_count": 1,
   "id": "a4630ed5",
   "metadata": {},
   "outputs": [],
   "source": [
    "factura=[\"pan\", True, 3.1234, 9]"
   ]
  },
  {
   "cell_type": "code",
   "execution_count": 2,
   "id": "e926bc80",
   "metadata": {},
   "outputs": [
    {
     "data": {
      "text/plain": [
       "4"
      ]
     },
     "execution_count": 2,
     "metadata": {},
     "output_type": "execute_result"
    }
   ],
   "source": [
    "len(factura)"
   ]
  },
  {
   "cell_type": "code",
   "execution_count": 3,
   "id": "4a264372",
   "metadata": {},
   "outputs": [
    {
     "data": {
      "text/plain": [
       "9"
      ]
     },
     "execution_count": 3,
     "metadata": {},
     "output_type": "execute_result"
    }
   ],
   "source": [
    "factura[3]"
   ]
  },
  {
   "cell_type": "code",
   "execution_count": 4,
   "id": "a9fec49e",
   "metadata": {},
   "outputs": [],
   "source": [
    "factura.extend(\"1234\")"
   ]
  },
  {
   "cell_type": "code",
   "execution_count": 5,
   "id": "09fc54be",
   "metadata": {},
   "outputs": [
    {
     "data": {
      "text/plain": [
       "['pan', True, 3.1234, 9, '1', '2', '3', '4']"
      ]
     },
     "execution_count": 5,
     "metadata": {},
     "output_type": "execute_result"
    }
   ],
   "source": [
    "factura"
   ]
  },
  {
   "cell_type": "code",
   "execution_count": null,
   "id": "0441795e",
   "metadata": {},
   "outputs": [],
   "source": []
  }
 ],
 "metadata": {
  "kernelspec": {
   "display_name": "Python 3 (ipykernel)",
   "language": "python",
   "name": "python3"
  },
  "language_info": {
   "codemirror_mode": {
    "name": "ipython",
    "version": 3
   },
   "file_extension": ".py",
   "mimetype": "text/x-python",
   "name": "python",
   "nbconvert_exporter": "python",
   "pygments_lexer": "ipython3",
   "version": "3.9.7"
  }
 },
 "nbformat": 4,
 "nbformat_minor": 5
}
