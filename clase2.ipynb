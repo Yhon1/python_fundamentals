{
 "cells": [
  {
   "cell_type": "code",
   "execution_count": 1,
   "id": "231e6390",
   "metadata": {},
   "outputs": [],
   "source": [
    "i=9"
   ]
  },
  {
   "cell_type": "code",
   "execution_count": 2,
   "id": "ff76583e",
   "metadata": {},
   "outputs": [
    {
     "data": {
      "text/plain": [
       "9"
      ]
     },
     "execution_count": 2,
     "metadata": {},
     "output_type": "execute_result"
    }
   ],
   "source": [
    "i"
   ]
  },
  {
   "cell_type": "code",
   "execution_count": 3,
   "id": "48d894c1",
   "metadata": {},
   "outputs": [
    {
     "data": {
      "text/plain": [
       "int"
      ]
     },
     "execution_count": 3,
     "metadata": {},
     "output_type": "execute_result"
    }
   ],
   "source": [
    "type(i)"
   ]
  },
  {
   "cell_type": "code",
   "execution_count": 4,
   "id": "446c1efb",
   "metadata": {},
   "outputs": [
    {
     "data": {
      "text/plain": [
       "float"
      ]
     },
     "execution_count": 4,
     "metadata": {},
     "output_type": "execute_result"
    }
   ],
   "source": [
    "d=9.9\n",
    "type(d)"
   ]
  },
  {
   "cell_type": "code",
   "execution_count": 7,
   "id": "40e652a5",
   "metadata": {},
   "outputs": [
    {
     "data": {
      "text/plain": [
       "str"
      ]
     },
     "execution_count": 7,
     "metadata": {},
     "output_type": "execute_result"
    }
   ],
   "source": [
    "t=\"texto\"\n",
    "type(t)"
   ]
  },
  {
   "cell_type": "code",
   "execution_count": 6,
   "id": "a02f2bc5",
   "metadata": {},
   "outputs": [],
   "source": [
    "#esto es un comentario"
   ]
  },
  {
   "cell_type": "code",
   "execution_count": 8,
   "id": "4ce145b6",
   "metadata": {},
   "outputs": [
    {
     "data": {
      "text/plain": [
       "str"
      ]
     },
     "execution_count": 8,
     "metadata": {},
     "output_type": "execute_result"
    }
   ],
   "source": [
    "texto=\"aaaa\"\n",
    "type(t)"
   ]
  },
  {
   "cell_type": "code",
   "execution_count": 10,
   "id": "db324938",
   "metadata": {},
   "outputs": [
    {
     "data": {
      "text/plain": [
       "list"
      ]
     },
     "execution_count": 10,
     "metadata": {},
     "output_type": "execute_result"
    }
   ],
   "source": [
    "lista=[\"hola\", 123, True]\n",
    "type(lista)"
   ]
  },
  {
   "cell_type": "code",
   "execution_count": 11,
   "id": "4cf0b265",
   "metadata": {},
   "outputs": [
    {
     "data": {
      "text/plain": [
       "tuple"
      ]
     },
     "execution_count": 11,
     "metadata": {},
     "output_type": "execute_result"
    }
   ],
   "source": [
    "tupla=(\"hola\", 123, True)\n",
    "type(tupla)"
   ]
  },
  {
   "cell_type": "code",
   "execution_count": 12,
   "id": "7e5fb26f",
   "metadata": {},
   "outputs": [
    {
     "data": {
      "text/plain": [
       "{'__name__': '__main__',\n",
       " '__doc__': 'Automatically created module for IPython interactive environment',\n",
       " '__package__': None,\n",
       " '__loader__': None,\n",
       " '__spec__': None,\n",
       " '__builtin__': <module 'builtins' (built-in)>,\n",
       " '__builtins__': <module 'builtins' (built-in)>,\n",
       " '_ih': ['',\n",
       "  'i=9',\n",
       "  'i',\n",
       "  'type(i)',\n",
       "  'd=9.9\\ntype(d)',\n",
       "  't=texto\\ntype(t)',\n",
       "  '#esto es un comentario',\n",
       "  't=\"texto\"\\ntype(t)',\n",
       "  'texto=\"aaaa\"\\ntype(t)',\n",
       "  'lista=[\"hola\", 123, true]\\ntype(lista)',\n",
       "  'lista=[\"hola\", 123, True]\\ntype(lista)',\n",
       "  'tupla=(\"hola\", 123, True)\\ntype(tupla)',\n",
       "  'vars()'],\n",
       " '_oh': {2: 9, 3: int, 4: float, 7: str, 8: str, 10: list, 11: tuple},\n",
       " '_dh': ['C:\\\\Users\\\\yhon.alama\\\\Python_Fundamentals'],\n",
       " 'In': ['',\n",
       "  'i=9',\n",
       "  'i',\n",
       "  'type(i)',\n",
       "  'd=9.9\\ntype(d)',\n",
       "  't=texto\\ntype(t)',\n",
       "  '#esto es un comentario',\n",
       "  't=\"texto\"\\ntype(t)',\n",
       "  'texto=\"aaaa\"\\ntype(t)',\n",
       "  'lista=[\"hola\", 123, true]\\ntype(lista)',\n",
       "  'lista=[\"hola\", 123, True]\\ntype(lista)',\n",
       "  'tupla=(\"hola\", 123, True)\\ntype(tupla)',\n",
       "  'vars()'],\n",
       " 'Out': {2: 9, 3: int, 4: float, 7: str, 8: str, 10: list, 11: tuple},\n",
       " 'get_ipython': <bound method InteractiveShell.get_ipython of <ipykernel.zmqshell.ZMQInteractiveShell object at 0x00000124DF8E6370>>,\n",
       " 'exit': <IPython.core.autocall.ZMQExitAutocall at 0x124df94c700>,\n",
       " 'quit': <IPython.core.autocall.ZMQExitAutocall at 0x124df94c700>,\n",
       " '_': tuple,\n",
       " '__': list,\n",
       " '___': str,\n",
       " '_i': 'tupla=(\"hola\", 123, True)\\ntype(tupla)',\n",
       " '_ii': 'lista=[\"hola\", 123, True]\\ntype(lista)',\n",
       " '_iii': 'lista=[\"hola\", 123, true]\\ntype(lista)',\n",
       " '_i1': 'i=9',\n",
       " 'i': 9,\n",
       " '_i2': 'i',\n",
       " '_2': 9,\n",
       " '_i3': 'type(i)',\n",
       " '_3': int,\n",
       " '_i4': 'd=9.9\\ntype(d)',\n",
       " 'd': 9.9,\n",
       " '_4': float,\n",
       " '_i5': 't=texto\\ntype(t)',\n",
       " '_i6': '#esto es un comentario',\n",
       " '_i7': 't=\"texto\"\\ntype(t)',\n",
       " 't': 'texto',\n",
       " '_7': str,\n",
       " '_i8': 'texto=\"aaaa\"\\ntype(t)',\n",
       " 'texto': 'aaaa',\n",
       " '_8': str,\n",
       " '_i9': 'lista=[\"hola\", 123, true]\\ntype(lista)',\n",
       " '_i10': 'lista=[\"hola\", 123, True]\\ntype(lista)',\n",
       " 'lista': ['hola', 123, True],\n",
       " '_10': list,\n",
       " '_i11': 'tupla=(\"hola\", 123, True)\\ntype(tupla)',\n",
       " 'tupla': ('hola', 123, True),\n",
       " '_11': tuple,\n",
       " '_i12': 'vars()'}"
      ]
     },
     "execution_count": 12,
     "metadata": {},
     "output_type": "execute_result"
    }
   ],
   "source": [
    "vars()"
   ]
  },
  {
   "cell_type": "code",
   "execution_count": null,
   "id": "187b4390",
   "metadata": {},
   "outputs": [],
   "source": []
  }
 ],
 "metadata": {
  "kernelspec": {
   "display_name": "Python 3 (ipykernel)",
   "language": "python",
   "name": "python3"
  },
  "language_info": {
   "codemirror_mode": {
    "name": "ipython",
    "version": 3
   },
   "file_extension": ".py",
   "mimetype": "text/x-python",
   "name": "python",
   "nbconvert_exporter": "python",
   "pygments_lexer": "ipython3",
   "version": "3.9.7"
  }
 },
 "nbformat": 4,
 "nbformat_minor": 5
}
