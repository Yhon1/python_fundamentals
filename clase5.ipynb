{
 "cells": [
  {
   "cell_type": "code",
   "execution_count": 4,
   "id": "aa610a34",
   "metadata": {},
   "outputs": [
    {
     "name": "stdout",
     "output_type": "stream",
     "text": [
      "27\n"
     ]
    }
   ],
   "source": [
    "a=9\n",
    "if a == 9:\n",
    "    a*=3\n",
    "    print(a)"
   ]
  },
  {
   "cell_type": "code",
   "execution_count": 6,
   "id": "9ddfea44",
   "metadata": {},
   "outputs": [
    {
     "name": "stdout",
     "output_type": "stream",
     "text": [
      "4\n"
     ]
    }
   ],
   "source": [
    "a=4\n",
    "if a == 9:\n",
    "    a*=3\n",
    "    print(a)\n",
    "else :\n",
    "    print(a)"
   ]
  },
  {
   "cell_type": "code",
   "execution_count": 27,
   "id": "a78ef9ac",
   "metadata": {},
   "outputs": [
    {
     "name": "stdout",
     "output_type": "stream",
     "text": [
      "Cuatro!\n"
     ]
    }
   ],
   "source": [
    "a=5\n",
    "if a == 9:\n",
    "    a*=3\n",
    "    print(a)\n",
    "elif a != 4 :\n",
    "    print(\"Cuatro!\")\n",
    "else :\n",
    "    print(a)"
   ]
  },
  {
   "cell_type": "code",
   "execution_count": 37,
   "id": "629813c3",
   "metadata": {},
   "outputs": [
    {
     "name": "stdout",
     "output_type": "stream",
     "text": [
      "Ingresa tu edad: 21\n",
      "Mayor de Edad\n"
     ]
    }
   ],
   "source": [
    "edad = int (input(\"Ingresa tu edad: \"))\n",
    "if edad >= 18:\n",
    "    print(\"Mayor de Edad\")\n",
    "else :\n",
    "    print(\"Menor de Edad\")"
   ]
  },
  {
   "cell_type": "code",
   "execution_count": null,
   "id": "d79886c0",
   "metadata": {},
   "outputs": [],
   "source": []
  }
 ],
 "metadata": {
  "kernelspec": {
   "display_name": "Python 3 (ipykernel)",
   "language": "python",
   "name": "python3"
  },
  "language_info": {
   "codemirror_mode": {
    "name": "ipython",
    "version": 3
   },
   "file_extension": ".py",
   "mimetype": "text/x-python",
   "name": "python",
   "nbconvert_exporter": "python",
   "pygments_lexer": "ipython3",
   "version": "3.9.7"
  }
 },
 "nbformat": 4,
 "nbformat_minor": 5
}
