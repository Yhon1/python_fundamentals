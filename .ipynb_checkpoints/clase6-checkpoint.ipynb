{
 "cells": [
  {
   "cell_type": "code",
   "execution_count": 14,
   "id": "920e1f25",
   "metadata": {},
   "outputs": [
    {
     "name": "stdout",
     "output_type": "stream",
     "text": [
      "Ingrese el primer número: 2\n",
      "Ingrese el segundo número: 20\n",
      "El número 2.0 es menor.\n"
     ]
    }
   ],
   "source": [
    "num1 = float(input(\"Ingrese el primer número: \"))\n",
    "num2 = float(input(\"Ingrese el segundo número: \"))\n",
    "\n",
    "if num1 == num2 :\n",
    "    print(\"Los números son iguales.\")\n",
    "elif num1 < num2 :\n",
    "    print(\"El número \" + str(num1) + \" es menor.\")\n",
    "    #Otra forma de imprimir valores en python\n",
    "    #print(\"El número {0} es menor.\".format(num1))\n",
    "elif num2 < num1 :\n",
    "    print(\"El número \" + str(num2) + \" es menor.\")\n",
    "else :\n",
    "    print(\"...\")"
   ]
  },
  {
   "cell_type": "code",
   "execution_count": null,
   "id": "019876f0",
   "metadata": {},
   "outputs": [],
   "source": []
  }
 ],
 "metadata": {
  "kernelspec": {
   "display_name": "Python 3 (ipykernel)",
   "language": "python",
   "name": "python3"
  },
  "language_info": {
   "codemirror_mode": {
    "name": "ipython",
    "version": 3
   },
   "file_extension": ".py",
   "mimetype": "text/x-python",
   "name": "python",
   "nbconvert_exporter": "python",
   "pygments_lexer": "ipython3",
   "version": "3.9.7"
  }
 },
 "nbformat": 4,
 "nbformat_minor": 5
}
